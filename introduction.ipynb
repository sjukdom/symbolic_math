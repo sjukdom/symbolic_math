{
 "cells": [
  {
   "cell_type": "markdown",
   "metadata": {},
   "source": [
    "# Introduccion a sympy\n",
    "El modulo sympy es un sistema de computacion simbolica que nos permite realizar calculos matematicos que pueden contener variables sin evaluar. Esto representa una ventaja porque algunas veces queremos evaluar expresiones exactas sin obtener una aproximacion numerica."
   ]
  },
  {
   "cell_type": "code",
   "execution_count": 25,
   "metadata": {},
   "outputs": [],
   "source": [
    "from sympy import *\n",
    "init_printing()"
   ]
  },
  {
   "cell_type": "code",
   "execution_count": 26,
   "metadata": {},
   "outputs": [],
   "source": [
    "# Creacion de variables simbolicas\n",
    "x, y, z, t = symbols('x y z t')"
   ]
  },
  {
   "cell_type": "code",
   "execution_count": 27,
   "metadata": {},
   "outputs": [
    {
     "data": {
      "image/png": "[encoded data removed]",
      "text/latex": [
       "$$x + 2 y$$"
      ],
      "text/plain": [
       "x + 2⋅y"
      ]
     },
     "execution_count": 27,
     "metadata": {},
     "output_type": "execute_result"
    }
   ],
   "source": [
    "# Crear una expresion matematica a partir de las variables\n",
    "expr = x + 2*y\n",
    "expr"
   ]
  },
  {
   "cell_type": "code",
   "execution_count": 28,
   "metadata": {},
   "outputs": [
    {
     "data": {
      "image/png": "[encoded data removed]",
      "text/latex": [
       "$$x \\left(x + 2 y\\right)$$"
      ],
      "text/plain": [
       "x⋅(x + 2⋅y)"
      ]
     },
     "execution_count": 28,
     "metadata": {},
     "output_type": "execute_result"
    }
   ],
   "source": [
    "# Manipulacion de la expresion matematica\n",
    "x * expr"
   ]
  },
  {
   "cell_type": "markdown",
   "metadata": {},
   "source": [
    "Como se vio anteriormente, no siempre sympy simplifica las operaciones matematicas, esto se debe a que por lo general es mas conveniente trabajar con una version factorizada. Sin embargo, es posible simplificar o factorizar las expresiones como se muestra a continuacion."
   ]
  },
  {
   "cell_type": "code",
   "execution_count": 29,
   "metadata": {},
   "outputs": [
    {
     "data": {
      "image/png": "[encoded data removed]",
      "text/latex": [
       "$$x^{2} + 2 x y$$"
      ],
      "text/plain": [
       " 2        \n",
       "x  + 2⋅x⋅y"
      ]
     },
     "execution_count": 29,
     "metadata": {},
     "output_type": "execute_result"
    }
   ],
   "source": [
    "# Expancion de una expresion\n",
    "expanded_expr = expand(x * expr)\n",
    "expanded_expr"
   ]
  },
  {
   "cell_type": "code",
   "execution_count": 31,
   "metadata": {},
   "outputs": [
    {
     "data": {
      "image/png": "[encoded data removed]",
      "text/latex": [
       "$$x \\left(x + 2 y\\right)$$"
      ],
      "text/plain": [
       "x⋅(x + 2⋅y)"
      ]
     },
     "execution_count": 31,
     "metadata": {},
     "output_type": "execute_result"
    }
   ],
   "source": [
    "# Factorizacion de una expresion\n",
    "factor(expanded_expr)"
   ]
  },
  {
   "cell_type": "markdown",
   "metadata": {},
   "source": [
    "## Manipulacion de funciones\n",
    "Se pueden manipular las funciones simbolicas para obtener:\n",
    "\n",
    "* Derivadas\n",
    "* Integrales\n",
    "* Transformadas"
   ]
  },
  {
   "cell_type": "markdown",
   "metadata": {},
   "source": [
    "### Solucion de ecuaciones de grado n"
   ]
  },
  {
   "cell_type": "code",
   "execution_count": 50,
   "metadata": {},
   "outputs": [
    {
     "data": {
      "image/png": "[encoded data removed]",
      "text/latex": [
       "$$2 x^{2} + 8 x - 1$$"
      ],
      "text/plain": [
       "   2          \n",
       "2⋅x  + 8⋅x - 1"
      ]
     },
     "execution_count": 50,
     "metadata": {},
     "output_type": "execute_result"
    }
   ],
   "source": [
    "# Segundo grado\n",
    "eq1 = 2*x**2 + 8*x -1\n",
    "eq1"
   ]
  },
  {
   "cell_type": "code",
   "execution_count": 52,
   "metadata": {},
   "outputs": [
    {
     "data": {
      "image/png": "[encoded data removed]",
      "text/latex": [
       "$$\\left [ -2 + \\frac{3 \\sqrt{2}}{2}, \\quad - \\frac{3 \\sqrt{2}}{2} - 2\\right ]$$"
      ],
      "text/plain": [
       "⎡     3⋅√2    3⋅√2    ⎤\n",
       "⎢-2 + ────, - ──── - 2⎥\n",
       "⎣      2       2      ⎦"
      ]
     },
     "execution_count": 52,
     "metadata": {},
     "output_type": "execute_result"
    }
   ],
   "source": [
    "solve(eq1)"
   ]
  },
  {
   "cell_type": "code",
   "execution_count": 58,
   "metadata": {},
   "outputs": [
    {
     "data": {
      "image/png": "[encoded data removed]",
      "text/latex": [
       "$$x^{5} + 3 x^{4} - x^{3} + 0.5 x^{2} + x - 1$$"
      ],
      "text/plain": [
       " 5      4    3        2        \n",
       "x  + 3⋅x  - x  + 0.5⋅x  + x - 1"
      ]
     },
     "execution_count": 58,
     "metadata": {},
     "output_type": "execute_result"
    }
   ],
   "source": [
    "# Quinto grado\n",
    "eq2 = x**5 + 3*x**4 - x**3 + 0.5*x**2 + x - 1\n",
    "eq2"
   ]
  },
  {
   "cell_type": "code",
   "execution_count": 56,
   "metadata": {},
   "outputs": [
    {
     "data": {
      "image/png": "[encoded data removed]",
      "text/latex": [
       "$$\\left [ -3.31170298403389, \\quad -0.811294299565032, \\quad 0.591740632951579, \\quad 0.26562832532367 - 0.747278022586012 i, \\quad 0.26562832532367 + 0.747278022586012 i\\right ]$$"
      ],
      "text/plain": [
       "[-3.31170298403389, -0.811294299565032, 0.591740632951579, 0.26562832532367 - \n",
       "0.747278022586012⋅ⅈ, 0.26562832532367 + 0.747278022586012⋅ⅈ]"
      ]
     },
     "execution_count": 56,
     "metadata": {},
     "output_type": "execute_result"
    }
   ],
   "source": [
    "solve(eq2)"
   ]
  },
  {
   "cell_type": "markdown",
   "metadata": {},
   "source": [
    "## Calculo simbolico"
   ]
  },
  {
   "cell_type": "markdown",
   "metadata": {},
   "source": [
    "Tomaremos como ejemplo la funcion:\n",
    "\n",
    "$$ f(x) = e^{x}sin(x)$$"
   ]
  },
  {
   "cell_type": "code",
   "execution_count": 44,
   "metadata": {},
   "outputs": [
    {
     "data": {
      "image/png": "[encoded data removed]",
      "text/latex": [
       "$$e^{x} \\sin{\\left (x \\right )}$$"
      ],
      "text/plain": [
       " x       \n",
       "ℯ ⋅sin(x)"
      ]
     },
     "execution_count": 44,
     "metadata": {},
     "output_type": "execute_result"
    }
   ],
   "source": [
    "f = sin(x) * exp(x)\n",
    "f"
   ]
  },
  {
   "cell_type": "markdown",
   "metadata": {},
   "source": [
    "### Limites\n",
    "\n",
    "$$lim_{x->0} \\frac{sin(x)}{x}$$"
   ]
  },
  {
   "cell_type": "code",
   "execution_count": 49,
   "metadata": {},
   "outputs": [
    {
     "data": {
      "image/png": "[encoded data removed]",
      "text/latex": [
       "$$1$$"
      ],
      "text/plain": [
       "1"
      ]
     },
     "execution_count": 49,
     "metadata": {},
     "output_type": "execute_result"
    }
   ],
   "source": [
    "limit(sin(x)/x, x, 0)"
   ]
  },
  {
   "cell_type": "markdown",
   "metadata": {},
   "source": [
    "### Derivadas"
   ]
  },
  {
   "cell_type": "code",
   "execution_count": 36,
   "metadata": {},
   "outputs": [
    {
     "data": {
      "image/png": "[encoded data removed]",
      "text/latex": [
       "$$e^{x} \\sin{\\left (x \\right )} + e^{x} \\cos{\\left (x \\right )}$$"
      ],
      "text/plain": [
       " x           x       \n",
       "ℯ ⋅sin(x) + ℯ ⋅cos(x)"
      ]
     },
     "execution_count": 36,
     "metadata": {},
     "output_type": "execute_result"
    }
   ],
   "source": [
    "diff_f = diff(f, x)\n",
    "diff_f"
   ]
  },
  {
   "cell_type": "markdown",
   "metadata": {},
   "source": [
    "### Integrales"
   ]
  },
  {
   "cell_type": "code",
   "execution_count": 42,
   "metadata": {},
   "outputs": [
    {
     "data": {
      "image/png": "[encoded data removed]",
      "text/latex": [
       "$$\\frac{e^{x} \\sin{\\left (x \\right )}}{2} - \\frac{e^{x} \\cos{\\left (x \\right )}}{2}$$"
      ],
      "text/plain": [
       " x           x       \n",
       "ℯ ⋅sin(x)   ℯ ⋅cos(x)\n",
       "───────── - ─────────\n",
       "    2           2    "
      ]
     },
     "execution_count": 42,
     "metadata": {},
     "output_type": "execute_result"
    }
   ],
   "source": [
    "int_f = integrate(f, x)\n",
    "int_f"
   ]
  },
  {
   "cell_type": "code",
   "execution_count": 80,
   "metadata": {},
   "outputs": [
    {
     "data": {
      "image/png": "[encoded data removed]",
      "text/latex": [
       "$$- \\frac{\\left(- \\sin{\\left (x \\right )} + \\cos{\\left (x \\right )}\\right) e^{x}}{2}$$"
      ],
      "text/plain": [
       "                     x \n",
       "-(-sin(x) + cos(x))⋅ℯ  \n",
       "───────────────────────\n",
       "           2           "
      ]
     },
     "execution_count": 80,
     "metadata": {},
     "output_type": "execute_result"
    }
   ],
   "source": [
    "factor(int_f)"
   ]
  },
  {
   "cell_type": "code",
   "execution_count": 88,
   "metadata": {},
   "outputs": [
    {
     "data": {
      "image/png": "[encoded data removed]",
      "text/latex": [
       "$$- \\frac{e \\cos{\\left (1 \\right )}}{2} + \\frac{e \\sin{\\left (1 \\right )}}{2}$$"
      ],
      "text/plain": [
       "  ℯ⋅cos(1)   ℯ⋅sin(1)\n",
       "- ──────── + ────────\n",
       "     2          2    "
      ]
     },
     "execution_count": 88,
     "metadata": {},
     "output_type": "execute_result"
    }
   ],
   "source": [
    "# Evaluar la integral, sustituyendo x por 1\n",
    "int_f.subs(x, 1)"
   ]
  },
  {
   "cell_type": "code",
   "execution_count": 91,
   "metadata": {},
   "outputs": [
    {
     "data": {
      "image/png": "[encoded data removed]",
      "text/latex": [
       "$$0.4093$$"
      ],
      "text/plain": [
       "0.4093"
      ]
     },
     "execution_count": 91,
     "metadata": {},
     "output_type": "execute_result"
    }
   ],
   "source": [
    "int_f.subs(x, 1).evalf(4)"
   ]
  },
  {
   "cell_type": "markdown",
   "metadata": {},
   "source": [
    "### Ecuaciones diferenciales"
   ]
  },
  {
   "cell_type": "markdown",
   "metadata": {},
   "source": [
    "Solucion de la ecuacion diferencial:\n",
    "\n",
    "$$ ay''(t) + by'(t) + c = f(t) $$"
   ]
  },
  {
   "cell_type": "code",
   "execution_count": 72,
   "metadata": {},
   "outputs": [
    {
     "data": {
      "image/png": "[encoded data removed]",
      "text/latex": [
       "$$y{\\left (t \\right )} + \\frac{d}{d t} y{\\left (t \\right )} + \\frac{d^{2}}{d t^{2}} y{\\left (t \\right )} = 0$$"
      ],
      "text/plain": [
       "                    2          \n",
       "       d           d           \n",
       "y(t) + ──(y(t)) + ───(y(t)) = 0\n",
       "       dt           2          \n",
       "                  dt           "
      ]
     },
     "execution_count": 72,
     "metadata": {},
     "output_type": "execute_result"
    }
   ],
   "source": [
    "# Una igualdad simbolica se especifica mediante\n",
    "# la instruccion --> Eq()\n",
    "a, b, c = 1, 1, 1\n",
    "y = Function('y')\n",
    "eq_diff = Eq(a*y(t).diff(t, t) + b*y(t).diff(t) + c*y(t), 0)\n",
    "eq_diff"
   ]
  },
  {
   "cell_type": "code",
   "execution_count": 76,
   "metadata": {},
   "outputs": [
    {
     "data": {
      "image/png": "[encoded data removed]",
      "text/latex": [
       "$$y{\\left (t \\right )} = \\frac{C_{1} \\sin{\\left (\\frac{\\sqrt{3} t}{2} \\right )} + C_{2} \\cos{\\left (\\frac{\\sqrt{3} t}{2} \\right )}}{\\sqrt{e^{t}}}$$"
      ],
      "text/plain": [
       "             ⎛√3⋅t⎞         ⎛√3⋅t⎞\n",
       "       C₁⋅sin⎜────⎟ + C₂⋅cos⎜────⎟\n",
       "             ⎝ 2  ⎠         ⎝ 2  ⎠\n",
       "y(t) = ───────────────────────────\n",
       "                    ____          \n",
       "                   ╱  t           \n",
       "                 ╲╱  ℯ            "
      ]
     },
     "execution_count": 76,
     "metadata": {},
     "output_type": "execute_result"
    }
   ],
   "source": [
    "solution = dsolve(eq_diff, y(t))\n",
    "solution"
   ]
  },
  {
   "cell_type": "code",
   "execution_count": 79,
   "metadata": {},
   "outputs": [
    {
     "data": {
      "image/png": "[encoded data removed]",
      "text/latex": [
       "$$y{\\left (0 \\right )} = C_{2}$$"
      ],
      "text/plain": [
       "y(0) = C₂"
      ]
     },
     "execution_count": 79,
     "metadata": {},
     "output_type": "execute_result"
    }
   ],
   "source": [
    "solution.subs(t, 0)"
   ]
  }
 ],
 "metadata": {
  "kernelspec": {
   "display_name": "Python 3",
   "language": "python",
   "name": "python3"
  },
  "language_info": {
   "codemirror_mode": {
    "name": "ipython",
    "version": 3
   },
   "file_extension": ".py",
   "mimetype": "text/x-python",
   "name": "python",
   "nbconvert_exporter": "python",
   "pygments_lexer": "ipython3",
   "version": "3.7.1"
  }
 },
 "nbformat": 4,
 "nbformat_minor": 2
}
