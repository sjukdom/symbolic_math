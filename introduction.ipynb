{
 "cells": [
  {
   "cell_type": "markdown",
   "metadata": {},
   "source": [
    "# Introduccion a sympy\n",
    "El modulo sympy es un sistema de computacion simbolica que nos permite realizar calculos matematicos que pueden contener variables sin evaluar. Esto representa una ventaja porque algunas veces queremos evaluar expresiones exactas sin obtener una aproximacion numerica."
   ]
  },
  {
   "cell_type": "code",
   "execution_count": 71,
   "metadata": {},
   "outputs": [],
   "source": [
    "from sympy import *\n",
    "init_printing(use_latex=True)"
   ]
  },
  {
   "cell_type": "code",
   "execution_count": 103,
   "metadata": {},
   "outputs": [],
   "source": [
    "# Creacion de variables simbolicas\n",
    "x, y, z, t = symbols('x y z t')"
   ]
  },
  {
   "cell_type": "code",
   "execution_count": 73,
   "metadata": {},
   "outputs": [
    {
     "data": {
      "image/png": "[encoded data removed]",
      "text/latex": [
       "$$x + 2 y$$"
      ],
      "text/plain": [
       "x + 2⋅y"
      ]
     },
     "execution_count": 73,
     "metadata": {},
     "output_type": "execute_result"
    }
   ],
   "source": [
    "# Crear una expresion matematica a partir de las variables\n",
    "expr = x + 2*y\n",
    "expr"
   ]
  },
  {
   "cell_type": "code",
   "execution_count": 74,
   "metadata": {},
   "outputs": [
    {
     "data": {
      "image/png": "[encoded data removed]",
      "text/latex": [
       "$$x \\left(x + 2 y\\right)$$"
      ],
      "text/plain": [
       "x⋅(x + 2⋅y)"
      ]
     },
     "execution_count": 74,
     "metadata": {},
     "output_type": "execute_result"
    }
   ],
   "source": [
    "# Manipulacion de la expresion matematica\n",
    "x * expr"
   ]
  },
  {
   "cell_type": "markdown",
   "metadata": {},
   "source": [
    "Como se vio anteriormente, no siempre sympy simplifica las operaciones matematicas, esto se debe a que por lo general es mas conveniente trabajar con una version factorizada. Sin embargo, es posible simplificar o factorizar las expresiones como se muestra a continuacion."
   ]
  },
  {
   "cell_type": "code",
   "execution_count": 75,
   "metadata": {},
   "outputs": [
    {
     "data": {
      "image/png": "[encoded data removed]",
      "text/latex": [
       "$$x^{2} + 2 x y$$"
      ],
      "text/plain": [
       " 2        \n",
       "x  + 2⋅x⋅y"
      ]
     },
     "execution_count": 75,
     "metadata": {},
     "output_type": "execute_result"
    }
   ],
   "source": [
    "# Expancion de una expresion\n",
    "expanded_expr = expand(x * expr)\n",
    "expanded_expr"
   ]
  },
  {
   "cell_type": "code",
   "execution_count": 76,
   "metadata": {},
   "outputs": [
    {
     "data": {
      "image/png": "[encoded data removed]",
      "text/latex": [
       "$$x \\left(x + 2 y\\right)$$"
      ],
      "text/plain": [
       "x⋅(x + 2⋅y)"
      ]
     },
     "execution_count": 76,
     "metadata": {},
     "output_type": "execute_result"
    }
   ],
   "source": [
    "# Factorizacion de una expresion\n",
    "factor(expanded_expr)"
   ]
  },
  {
   "cell_type": "markdown",
   "metadata": {},
   "source": [
    "## Manipulacion de funciones\n",
    "Se pueden manipular las funciones simbolicas para obtener:\n",
    "\n",
    "* Derivadas\n",
    "* Integrales\n",
    "* Transformadas"
   ]
  },
  {
   "cell_type": "markdown",
   "metadata": {},
   "source": [
    "### Solucion de ecuaciones de grado n"
   ]
  },
  {
   "cell_type": "code",
   "execution_count": 77,
   "metadata": {},
   "outputs": [
    {
     "data": {
      "image/png": "[encoded data removed]",
      "text/latex": [
       "$$2 x^{2} + 8 x - 1$$"
      ],
      "text/plain": [
       "   2          \n",
       "2⋅x  + 8⋅x - 1"
      ]
     },
     "execution_count": 77,
     "metadata": {},
     "output_type": "execute_result"
    }
   ],
   "source": [
    "# Segundo grado\n",
    "eq1 = 2*x**2 + 8*x -1\n",
    "eq1"
   ]
  },
  {
   "cell_type": "code",
   "execution_count": 78,
   "metadata": {},
   "outputs": [
    {
     "data": {
      "image/png": "[encoded data removed]",
      "text/latex": [
       "$$\\left [ -2 + \\frac{3 \\sqrt{2}}{2}, \\quad - \\frac{3 \\sqrt{2}}{2} - 2\\right ]$$"
      ],
      "text/plain": [
       "⎡     3⋅√2    3⋅√2    ⎤\n",
       "⎢-2 + ────, - ──── - 2⎥\n",
       "⎣      2       2      ⎦"
      ]
     },
     "execution_count": 78,
     "metadata": {},
     "output_type": "execute_result"
    }
   ],
   "source": [
    "solve(eq1)"
   ]
  },
  {
   "cell_type": "code",
   "execution_count": 79,
   "metadata": {},
   "outputs": [
    {
     "data": {
      "image/png": "[encoded data removed]",
      "text/latex": [
       "$$x^{5} + 3 x^{4} - x^{3} + 0.5 x^{2} + x - 1$$"
      ],
      "text/plain": [
       " 5      4    3        2        \n",
       "x  + 3⋅x  - x  + 0.5⋅x  + x - 1"
      ]
     },
     "execution_count": 79,
     "metadata": {},
     "output_type": "execute_result"
    }
   ],
   "source": [
    "# Quinto grado\n",
    "eq2 = x**5 + 3*x**4 - x**3 + 0.5*x**2 + x - 1\n",
    "eq2"
   ]
  },
  {
   "cell_type": "code",
   "execution_count": 80,
   "metadata": {},
   "outputs": [
    {
     "data": {
      "image/png": "[encoded data removed]",
      "text/latex": [
       "$$\\left [ -3.31170298403389, \\quad -0.811294299565032, \\quad 0.591740632951579, \\quad 0.26562832532367 - 0.747278022586012 i, \\quad 0.26562832532367 + 0.747278022586012 i\\right ]$$"
      ],
      "text/plain": [
       "[-3.31170298403389, -0.811294299565032, 0.591740632951579, 0.26562832532367 - \n",
       "0.747278022586012⋅ⅈ, 0.26562832532367 + 0.747278022586012⋅ⅈ]"
      ]
     },
     "execution_count": 80,
     "metadata": {},
     "output_type": "execute_result"
    }
   ],
   "source": [
    "solve(eq2)"
   ]
  },
  {
   "cell_type": "markdown",
   "metadata": {},
   "source": [
    "## Calculo simbolico"
   ]
  },
  {
   "cell_type": "markdown",
   "metadata": {},
   "source": [
    "Tomaremos como ejemplo la funcion:\n",
    "\n",
    "$$ f(x) = e^{x}sin(x)$$"
   ]
  },
  {
   "cell_type": "code",
   "execution_count": 81,
   "metadata": {},
   "outputs": [
    {
     "data": {
      "image/png": "[encoded data removed]",
      "text/latex": [
       "$$e^{x} \\sin{\\left (x \\right )}$$"
      ],
      "text/plain": [
       " x       \n",
       "ℯ ⋅sin(x)"
      ]
     },
     "execution_count": 81,
     "metadata": {},
     "output_type": "execute_result"
    }
   ],
   "source": [
    "f = sin(x) * exp(x)\n",
    "f"
   ]
  },
  {
   "cell_type": "markdown",
   "metadata": {},
   "source": [
    "### Limites\n",
    "\n",
    "Se pueden obtener el limite de una funcion con la instruccion *limit*.\n",
    "\n",
    "$$lim_{x->0} \\frac{sin(x)}{x}$$"
   ]
  },
  {
   "cell_type": "code",
   "execution_count": 82,
   "metadata": {},
   "outputs": [
    {
     "data": {
      "image/png": "[encoded data removed]",
      "text/latex": [
       "$$1$$"
      ],
      "text/plain": [
       "1"
      ]
     },
     "execution_count": 82,
     "metadata": {},
     "output_type": "execute_result"
    }
   ],
   "source": [
    "limit(sin(x)/x, x, 0)"
   ]
  },
  {
   "cell_type": "markdown",
   "metadata": {},
   "source": [
    "### Derivadas"
   ]
  },
  {
   "cell_type": "markdown",
   "metadata": {},
   "source": [
    "Se puede obtener la derivada de orden N de una funcion. \n",
    "\n",
    "La funcion que nos permite realizar esto es mediante *diff* donde recibe como argumento la funcion a derivar y con respecto a que variable se debe obtener. Se colocan tantas variables como el orden de la derivada que deseamos."
   ]
  },
  {
   "cell_type": "code",
   "execution_count": 83,
   "metadata": {},
   "outputs": [
    {
     "data": {
      "image/png": "[encoded data removed]",
      "text/latex": [
       "$$e^{x} \\sin{\\left (x \\right )} + e^{x} \\cos{\\left (x \\right )}$$"
      ],
      "text/plain": [
       " x           x       \n",
       "ℯ ⋅sin(x) + ℯ ⋅cos(x)"
      ]
     },
     "execution_count": 83,
     "metadata": {},
     "output_type": "execute_result"
    }
   ],
   "source": [
    "# Primer derivada\n",
    "diff_f = diff(f, x, 1)\n",
    "diff_f"
   ]
  },
  {
   "cell_type": "code",
   "execution_count": 84,
   "metadata": {},
   "outputs": [
    {
     "data": {
      "image/png": "[encoded data removed]",
      "text/latex": [
       "$$2 e^{x} \\cos{\\left (x \\right )}$$"
      ],
      "text/plain": [
       "   x       \n",
       "2⋅ℯ ⋅cos(x)"
      ]
     },
     "execution_count": 84,
     "metadata": {},
     "output_type": "execute_result"
    }
   ],
   "source": [
    "# Segunda derivada\n",
    "diff(f, x, 2)"
   ]
  },
  {
   "cell_type": "code",
   "execution_count": 85,
   "metadata": {},
   "outputs": [
    {
     "data": {
      "image/png": "[encoded data removed]",
      "text/latex": [
       "$$2 \\left(- \\sin{\\left (x \\right )} + \\cos{\\left (x \\right )}\\right) e^{x}$$"
      ],
      "text/plain": [
       "                      x\n",
       "2⋅(-sin(x) + cos(x))⋅ℯ "
      ]
     },
     "execution_count": 85,
     "metadata": {},
     "output_type": "execute_result"
    }
   ],
   "source": [
    "# Tercera derivada\n",
    "diff(f, x, 3)"
   ]
  },
  {
   "cell_type": "code",
   "execution_count": 86,
   "metadata": {},
   "outputs": [
    {
     "data": {
      "image/png": "[encoded data removed]",
      "text/latex": [
       "$$e \\cos{\\left (1 \\right )} + e \\sin{\\left (1 \\right )}$$"
      ],
      "text/plain": [
       "ℯ⋅cos(1) + ℯ⋅sin(1)"
      ]
     },
     "execution_count": 86,
     "metadata": {},
     "output_type": "execute_result"
    }
   ],
   "source": [
    "# Evaluar la primer derivada cuando x = 1 (simbolicamente)\n",
    "diff_f.subs(x, 1)"
   ]
  },
  {
   "cell_type": "code",
   "execution_count": 116,
   "metadata": {},
   "outputs": [
    {
     "data": {
      "image/png": "[encoded data removed]",
      "text/latex": [
       "$$3.756$$"
      ],
      "text/plain": [
       "3.756"
      ]
     },
     "execution_count": 116,
     "metadata": {},
     "output_type": "execute_result"
    }
   ],
   "source": [
    "# Evaluar la primer derivada cuando x = 1 (numericamente) con 4 digitos\n",
    "diff_f.subs(x, 1).evalf(4)"
   ]
  },
  {
   "cell_type": "markdown",
   "metadata": {},
   "source": [
    "### Integrales\n",
    "\n",
    "La integral de una funcion se obtiene mediante la instruccion *integrate* donde recibe como argumento la funcion a integrar y la variable con respecto a la cual se integra. \n",
    "\n",
    "Al igual que en el caso de la derivada, si queremos obtener la integral de orden N, debemos colocar N veces la variable de interes.\n",
    "\n",
    "Las integrales que se pueden obtener son:\n",
    "\n",
    "* Indefinidas\n",
    "* Definidas"
   ]
  },
  {
   "cell_type": "markdown",
   "metadata": {},
   "source": [
    "#### Integrales indefinidas"
   ]
  },
  {
   "cell_type": "code",
   "execution_count": 88,
   "metadata": {},
   "outputs": [
    {
     "data": {
      "image/png": "[encoded data removed]",
      "text/latex": [
       "$$\\frac{e^{x} \\sin{\\left (x \\right )}}{2} - \\frac{e^{x} \\cos{\\left (x \\right )}}{2}$$"
      ],
      "text/plain": [
       " x           x       \n",
       "ℯ ⋅sin(x)   ℯ ⋅cos(x)\n",
       "───────── - ─────────\n",
       "    2           2    "
      ]
     },
     "execution_count": 88,
     "metadata": {},
     "output_type": "execute_result"
    }
   ],
   "source": [
    "# Primer integral\n",
    "int_f = integrate(f, x)\n",
    "int_f"
   ]
  },
  {
   "cell_type": "code",
   "execution_count": 89,
   "metadata": {},
   "outputs": [
    {
     "data": {
      "image/png": "[encoded data removed]",
      "text/latex": [
       "$$- \\frac{e^{x} \\cos{\\left (x \\right )}}{2}$$"
      ],
      "text/plain": [
       "  x        \n",
       "-ℯ ⋅cos(x) \n",
       "───────────\n",
       "     2     "
      ]
     },
     "execution_count": 89,
     "metadata": {},
     "output_type": "execute_result"
    }
   ],
   "source": [
    "# Segunda integral\n",
    "integrate(f, x, x)"
   ]
  },
  {
   "cell_type": "code",
   "execution_count": 90,
   "metadata": {},
   "outputs": [
    {
     "data": {
      "image/png": "[encoded data removed]",
      "text/latex": [
       "$$- \\frac{e^{x} \\sin{\\left (x \\right )}}{4} - \\frac{e^{x} \\cos{\\left (x \\right )}}{4}$$"
      ],
      "text/plain": [
       "   x           x       \n",
       "  ℯ ⋅sin(x)   ℯ ⋅cos(x)\n",
       "- ───────── - ─────────\n",
       "      4           4    "
      ]
     },
     "execution_count": 90,
     "metadata": {},
     "output_type": "execute_result"
    }
   ],
   "source": [
    "# Tercera integral\n",
    "integrate(f, x, x, x)"
   ]
  },
  {
   "cell_type": "code",
   "execution_count": 91,
   "metadata": {},
   "outputs": [
    {
     "data": {
      "image/png": "[encoded data removed]",
      "text/latex": [
       "$$- \\frac{\\left(- \\sin{\\left (x \\right )} + \\cos{\\left (x \\right )}\\right) e^{x}}{2}$$"
      ],
      "text/plain": [
       "                     x \n",
       "-(-sin(x) + cos(x))⋅ℯ  \n",
       "───────────────────────\n",
       "           2           "
      ]
     },
     "execution_count": 91,
     "metadata": {},
     "output_type": "execute_result"
    }
   ],
   "source": [
    "# Factorizacion de la primera integral\n",
    "factor(int_f)"
   ]
  },
  {
   "cell_type": "code",
   "execution_count": 92,
   "metadata": {},
   "outputs": [
    {
     "data": {
      "image/png": "[encoded data removed]",
      "text/latex": [
       "$$- \\frac{e \\cos{\\left (1 \\right )}}{2} + \\frac{e \\sin{\\left (1 \\right )}}{2}$$"
      ],
      "text/plain": [
       "  ℯ⋅cos(1)   ℯ⋅sin(1)\n",
       "- ──────── + ────────\n",
       "     2          2    "
      ]
     },
     "execution_count": 92,
     "metadata": {},
     "output_type": "execute_result"
    }
   ],
   "source": [
    "# Evaluar la primer integral como una expresion simbolica\n",
    "int_f.subs(x, 1)"
   ]
  },
  {
   "cell_type": "code",
   "execution_count": 93,
   "metadata": {},
   "outputs": [
    {
     "data": {
      "image/png": "[encoded data removed]",
      "text/latex": [
       "$$0.4093$$"
      ],
      "text/plain": [
       "0.4093"
      ]
     },
     "execution_count": 93,
     "metadata": {},
     "output_type": "execute_result"
    }
   ],
   "source": [
    "# Evaluar la segunda integral como una expresion numerica, con 4 decimales\n",
    "int_f.subs(x, 1).evalf(4)"
   ]
  },
  {
   "cell_type": "markdown",
   "metadata": {},
   "source": [
    "#### Integrales definidas\n",
    "\n",
    "Obtendremos la integral de la funcion $ e^{-2x} $ con distintos limites de integracion."
   ]
  },
  {
   "cell_type": "markdown",
   "metadata": {},
   "source": [
    "$\\int_{0}^{\\infty}e^{-2x}dx $ "
   ]
  },
  {
   "cell_type": "code",
   "execution_count": 94,
   "metadata": {},
   "outputs": [
    {
     "data": {
      "image/png": "[encoded data removed]",
      "text/latex": [
       "$$\\frac{1}{2}$$"
      ],
      "text/plain": [
       "1/2"
      ]
     },
     "execution_count": 94,
     "metadata": {},
     "output_type": "execute_result"
    }
   ],
   "source": [
    "integrate(exp(-2*x), (x, 0, oo))"
   ]
  },
  {
   "cell_type": "markdown",
   "metadata": {},
   "source": [
    "$\\int_{-\\infty}^{\\infty}e^{-2x}dx $ "
   ]
  },
  {
   "cell_type": "code",
   "execution_count": 95,
   "metadata": {},
   "outputs": [
    {
     "data": {
      "image/png": "[encoded data removed]",
      "text/latex": [
       "$$\\infty$$"
      ],
      "text/plain": [
       "∞"
      ]
     },
     "execution_count": 95,
     "metadata": {},
     "output_type": "execute_result"
    }
   ],
   "source": [
    "integrate(exp(-2*x), (x, -oo, oo))"
   ]
  },
  {
   "cell_type": "markdown",
   "metadata": {},
   "source": [
    "Tambien es posible integrar una funcion **multivariable**. Tomaremos como ejemplo a la funcion:\n",
    "\n",
    "$ 2x^2 + 3y^3 $"
   ]
  },
  {
   "cell_type": "code",
   "execution_count": 110,
   "metadata": {},
   "outputs": [
    {
     "data": {
      "image/png": "[encoded data removed]",
      "text/latex": [
       "$$2 x^{2} + 3 y^{3}$$"
      ],
      "text/plain": [
       "   2      3\n",
       "2⋅x  + 3⋅y "
      ]
     },
     "execution_count": 110,
     "metadata": {},
     "output_type": "execute_result"
    }
   ],
   "source": [
    "fxy = 2*x**2 + 3*y**3\n",
    "fxy"
   ]
  },
  {
   "cell_type": "markdown",
   "metadata": {},
   "source": [
    "$ \\int_{0}^{3} (2x^2 + 3y^3) dx $"
   ]
  },
  {
   "cell_type": "code",
   "execution_count": 117,
   "metadata": {},
   "outputs": [
    {
     "data": {
      "image/png": "[encoded data removed]",
      "text/latex": [
       "$$9 y^{3} + 18$$"
      ],
      "text/plain": [
       "   3     \n",
       "9⋅y  + 18"
      ]
     },
     "execution_count": 117,
     "metadata": {},
     "output_type": "execute_result"
    }
   ],
   "source": [
    "# Integral definida con respecto a x\n",
    "integrate(fxy, (x, 0, 3))"
   ]
  },
  {
   "cell_type": "markdown",
   "metadata": {},
   "source": [
    "#### Integrales sin evaluar\n",
    "Se puede crear un objeto del tipo integral con la instruccion *Integral* que consiste en la expresion simbolica. Esta expresion se puede evaluar posteriormente con el metodo *doit()*."
   ]
  },
  {
   "cell_type": "code",
   "execution_count": 128,
   "metadata": {},
   "outputs": [
    {
     "data": {
      "image/png": "[encoded data removed]",
      "text/latex": [
       "$$\\int 2 x^{2}\\, dx$$"
      ],
      "text/plain": [
       "⌠        \n",
       "⎮    2   \n",
       "⎮ 2⋅x  dx\n",
       "⌡        "
      ]
     },
     "execution_count": 128,
     "metadata": {},
     "output_type": "execute_result"
    }
   ],
   "source": [
    "# Indefinida\n",
    "expr_inti = Integral(2*x**2)\n",
    "expr_inti"
   ]
  },
  {
   "cell_type": "code",
   "execution_count": 129,
   "metadata": {},
   "outputs": [
    {
     "data": {
      "image/png": "[encoded data removed]",
      "text/latex": [
       "$$\\frac{2 x^{3}}{3}$$"
      ],
      "text/plain": [
       "   3\n",
       "2⋅x \n",
       "────\n",
       " 3  "
      ]
     },
     "execution_count": 129,
     "metadata": {},
     "output_type": "execute_result"
    }
   ],
   "source": [
    "# Evaluar integral indefinida\n",
    "expr_inti.doit()"
   ]
  },
  {
   "cell_type": "code",
   "execution_count": 130,
   "metadata": {},
   "outputs": [
    {
     "data": {
      "image/png": "[encoded data removed]",
      "text/latex": [
       "$$\\int_{0}^{4} 2 x^{2}\\, dx$$"
      ],
      "text/plain": [
       "4        \n",
       "⌠        \n",
       "⎮    2   \n",
       "⎮ 2⋅x  dx\n",
       "⌡        \n",
       "0        "
      ]
     },
     "execution_count": 130,
     "metadata": {},
     "output_type": "execute_result"
    }
   ],
   "source": [
    "# Definida\n",
    "expr_intd = Integral(2*x**2, (x, 0, 4))\n",
    "expr_intd"
   ]
  },
  {
   "cell_type": "code",
   "execution_count": 134,
   "metadata": {},
   "outputs": [
    {
     "data": {
      "image/png": "[encoded data removed]",
      "text/latex": [
       "$$\\frac{128}{3}$$"
      ],
      "text/plain": [
       "128/3"
      ]
     },
     "execution_count": 134,
     "metadata": {},
     "output_type": "execute_result"
    }
   ],
   "source": [
    "# Evaluar la integral definida\n",
    "expr_intd.doit()"
   ]
  },
  {
   "cell_type": "code",
   "execution_count": 142,
   "metadata": {},
   "outputs": [
    {
     "data": {
      "image/png": "[encoded data removed]",
      "text/latex": [
       "$$\\int_{-\\infty}^{\\infty}\\int_{-\\infty}^{\\infty} e^{- x^{2} - y^{2}}\\, dx\\, dy$$"
      ],
      "text/plain": [
       "∞  ∞                  \n",
       "⌠  ⌠                  \n",
       "⎮  ⎮      2    2      \n",
       "⎮  ⎮   - x  - y       \n",
       "⎮  ⎮  ℯ          dx dy\n",
       "⌡  ⌡                  \n",
       "-∞ -∞                 "
      ]
     },
     "execution_count": 142,
     "metadata": {},
     "output_type": "execute_result"
    }
   ],
   "source": [
    "# Multivariable\n",
    "expr_int_mv = Integral(exp(-x**2-y**2), (x, -oo, oo), (y, -oo, oo))\n",
    "expr_int_mv"
   ]
  },
  {
   "cell_type": "code",
   "execution_count": 144,
   "metadata": {},
   "outputs": [
    {
     "data": {
      "image/png": "[encoded data removed]",
      "text/latex": [
       "$$\\pi$$"
      ],
      "text/plain": [
       "π"
      ]
     },
     "execution_count": 144,
     "metadata": {},
     "output_type": "execute_result"
    }
   ],
   "source": [
    "expr_int_mv.doit()"
   ]
  },
  {
   "cell_type": "markdown",
   "metadata": {},
   "source": [
    "### Expansion de series\n",
    "Para calcular la expansion en series de una funcion alrededor del punto $x=x_0$ se usa el metodo *series(x0, n)*, donde n es el numero que indica el orden del mayor exponente $x^n$."
   ]
  },
  {
   "cell_type": "code",
   "execution_count": 167,
   "metadata": {},
   "outputs": [
    {
     "data": {
      "image/png": "[encoded data removed]",
      "text/latex": [
       "$$- \\frac{x^{7}}{5040} + \\frac{x^{5}}{120} - \\frac{x^{3}}{6} + x$$"
      ],
      "text/plain": [
       "    7      5    3    \n",
       "   x      x    x     \n",
       "- ──── + ─── - ── + x\n",
       "  5040   120   6     "
      ]
     },
     "execution_count": 167,
     "metadata": {},
     "output_type": "execute_result"
    }
   ],
   "source": [
    "sin(x).series(x, 0, 8).removeO()"
   ]
  },
  {
   "cell_type": "markdown",
   "metadata": {},
   "source": [
    "### Ecuaciones diferenciales"
   ]
  },
  {
   "cell_type": "markdown",
   "metadata": {},
   "source": [
    "En esta seccion se solucionaran ecuaciones diferenciales de coeficientes constantes, que son de la forma:\n",
    "\n",
    "$$ ay''(t) + by'(t) + c = f(t) $$"
   ]
  },
  {
   "cell_type": "markdown",
   "metadata": {},
   "source": [
    "#### Ejemplo con ecuacion diferencial homogenea"
   ]
  },
  {
   "cell_type": "code",
   "execution_count": 97,
   "metadata": {},
   "outputs": [
    {
     "data": {
      "image/png": "[encoded data removed]",
      "text/latex": [
       "$$y{\\left (t \\right )} + \\frac{d}{d t} y{\\left (t \\right )} + \\frac{d^{2}}{d t^{2}} y{\\left (t \\right )} = 0$$"
      ],
      "text/plain": [
       "                    2          \n",
       "       d           d           \n",
       "y(t) + ──(y(t)) + ───(y(t)) = 0\n",
       "       dt           2          \n",
       "                  dt           "
      ]
     },
     "execution_count": 97,
     "metadata": {},
     "output_type": "execute_result"
    }
   ],
   "source": [
    "# Una igualdad simbolica se especifica mediante la instruccion --> Eq()\n",
    "a, b, c = 1, 1, 1\n",
    "y = Function('y')\n",
    "eq_diff = Eq(a*y(t).diff(t, t) + b*y(t).diff(t) + c*y(t), 0)\n",
    "eq_diff"
   ]
  },
  {
   "cell_type": "code",
   "execution_count": 98,
   "metadata": {},
   "outputs": [
    {
     "data": {
      "image/png": "[encoded data removed]",
      "text/latex": [
       "$$y{\\left (t \\right )} = \\frac{C_{1} \\sin{\\left (\\frac{\\sqrt{3} t}{2} \\right )} + C_{2} \\cos{\\left (\\frac{\\sqrt{3} t}{2} \\right )}}{\\sqrt{e^{t}}}$$"
      ],
      "text/plain": [
       "             ⎛√3⋅t⎞         ⎛√3⋅t⎞\n",
       "       C₁⋅sin⎜────⎟ + C₂⋅cos⎜────⎟\n",
       "             ⎝ 2  ⎠         ⎝ 2  ⎠\n",
       "y(t) = ───────────────────────────\n",
       "                    ____          \n",
       "                   ╱  t           \n",
       "                 ╲╱  ℯ            "
      ]
     },
     "execution_count": 98,
     "metadata": {},
     "output_type": "execute_result"
    }
   ],
   "source": [
    "# Obtener la solucion de la ecuacion diferencial\n",
    "# sin condiciones iniciales\n",
    "solution = dsolve(eq_diff, y(t))\n",
    "solution"
   ]
  },
  {
   "cell_type": "code",
   "execution_count": 99,
   "metadata": {},
   "outputs": [
    {
     "data": {
      "image/png": "[encoded data removed]",
      "text/latex": [
       "$$y{\\left (0 \\right )} = C_{2}$$"
      ],
      "text/plain": [
       "y(0) = C₂"
      ]
     },
     "execution_count": 99,
     "metadata": {},
     "output_type": "execute_result"
    }
   ],
   "source": [
    "solution.subs(t, 0)"
   ]
  },
  {
   "cell_type": "markdown",
   "metadata": {},
   "source": [
    "#### Ejemplo con ecuacion diferencial no homogenea"
   ]
  },
  {
   "cell_type": "code",
   "execution_count": 177,
   "metadata": {},
   "outputs": [
    {
     "data": {
      "text/plain": [
       "sympy.core.relational.Equality"
      ]
     },
     "execution_count": 177,
     "metadata": {},
     "output_type": "execute_result"
    }
   ],
   "source": [
    "type(solution)"
   ]
  },
  {
   "cell_type": "markdown",
   "metadata": {},
   "source": [
    "## Graficacion de funciones"
   ]
  },
  {
   "cell_type": "code",
   "execution_count": 181,
   "metadata": {},
   "outputs": [],
   "source": [
    "func1 = exp(-x)*sin(4*x)"
   ]
  },
  {
   "cell_type": "code",
   "execution_count": 182,
   "metadata": {},
   "outputs": [
    {
     "data": {
      "image/png": "[encoded data removed]",
      "text/plain": [
       "<Figure size 432x288 with 1 Axes>"
      ]
     },
     "metadata": {
      "needs_background": "light"
     },
     "output_type": "display_data"
    },
    {
     "data": {
      "text/plain": [
       "<sympy.plotting.plot.Plot at 0x7fcb7d4295f8>"
      ]
     },
     "execution_count": 182,
     "metadata": {},
     "output_type": "execute_result"
    }
   ],
   "source": [
    "plot(func1, (x, -5, 5))"
   ]
  }
 ],
 "metadata": {
  "kernelspec": {
   "display_name": "Python 3",
   "language": "python",
   "name": "python3"
  },
  "language_info": {
   "codemirror_mode": {
    "name": "ipython",
    "version": 3
   },
   "file_extension": ".py",
   "mimetype": "text/x-python",
   "name": "python",
   "nbconvert_exporter": "python",
   "pygments_lexer": "ipython3",
   "version": "3.7.1"
  }
 },
 "nbformat": 4,
 "nbformat_minor": 2
}
